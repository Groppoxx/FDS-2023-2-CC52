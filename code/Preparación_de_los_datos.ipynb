{
  "nbformat": 4,
  "nbformat_minor": 0,
  "metadata": {
    "colab": {
      "provenance": []
    },
    "kernelspec": {
      "name": "python3",
      "display_name": "Python 3"
    },
    "language_info": {
      "name": "python"
    }
  },
  "cells": [
    {
      "cell_type": "markdown",
      "source": [
        "# PREPARACION DE LOS DATOS (MXvideos_cc50_202101)"
      ],
      "metadata": {
        "id": "AA7YxTPzWiJv"
      }
    },
    {
      "cell_type": "markdown",
      "source": [
        "**IMPORTAR LIBRERIAS**"
      ],
      "metadata": {
        "id": "aovCupK5Wm1a"
      }
    },
    {
      "cell_type": "code",
      "execution_count": null,
      "metadata": {
        "id": "buzY0rumWUCT"
      },
      "outputs": [],
      "source": [
        "import pandas as pd\n",
        "\n",
        "import matplotlib.pyplot as plt\n",
        "import seaborn as sns\n",
        "from wordcloud import WordCloud\n",
        "import missingno as msno\n",
        "\n",
        "from google.colab import drive\n",
        "drive.mount('/content/drive')"
      ]
    },
    {
      "cell_type": "markdown",
      "source": [
        "**CARGAR LOS DATOS**"
      ],
      "metadata": {
        "id": "ROqCbSpQWwGZ"
      }
    },
    {
      "cell_type": "code",
      "source": [
        "path = '/content/drive/MyDrive/01.CICLO 2023-2/FUNDAMENTOS DE DATA SCIENCE/TRABAJO FINAL/MXvideos_cc50_202101.csv'\n",
        "dfMXvideos_clean = pd.read_csv(path)"
      ],
      "metadata": {
        "id": "jGBD_EurWxhC"
      },
      "execution_count": null,
      "outputs": []
    },
    {
      "cell_type": "markdown",
      "source": [
        "**LIMPIAR DATOS**"
      ],
      "metadata": {
        "id": "FJJLpKZtXBUH"
      }
    },
    {
      "cell_type": "markdown",
      "source": [
        "* Para los valores nulos"
      ],
      "metadata": {
        "id": "MqkMxD_7OJbY"
      }
    },
    {
      "cell_type": "code",
      "source": [
        "dfMXvideos_clean['description'].fillna(\"Ninguna\", inplace =True)\n",
        "dfMXvideos_clean['tags'].fillna(\"Ninguno\", inplace =True)\n",
        "dfMXvideos_clean['channel_title'].fillna(\"Vacio\", inplace =True)\n",
        "dfMXvideos_clean['title'].fillna(\"Vacio\", inplace =True)\n",
        "dfMXvideos_clean['video_id'].fillna(\"Ninguno\", inplace =True)\n",
        "dfMXvideos_clean['trending_date'].fillna(method='ffill', inplace=True)"
      ],
      "metadata": {
        "id": "Y095YJrUXC5Q"
      },
      "execution_count": null,
      "outputs": []
    },
    {
      "cell_type": "code",
      "source": [
        "dfMXvideos_clean['trending_date'].fillna(method='ffill', inplace=True)"
      ],
      "metadata": {
        "id": "sPJddtn5OQNs"
      },
      "execution_count": null,
      "outputs": []
    },
    {
      "cell_type": "markdown",
      "source": [
        "* Verificamos los datos nulos"
      ],
      "metadata": {
        "id": "aLOM8AkuOVmI"
      }
    },
    {
      "cell_type": "code",
      "source": [
        "total = dfMXvideos_clean.isnull().sum().sort_values(ascending = False)\n",
        "porcentaje_nulos = (dfMXvideos_clean.isnull().sum() / dfMXvideos_clean.isnull().count()).sort_values(ascending = False)\n",
        "datos_faltantes = pd.concat([total, porcentaje_nulos], axis = 1, keys = ['Total', 'Porcentaje'])\n",
        "\n",
        "print('-----------------------------------------------',\n",
        "      'Los datos faltantes del Dataset son: ', total,\n",
        "      '-----------------------------------------------',\n",
        "      'El % de datos faltantes del dataset:',\n",
        "      datos_faltantes[datos_faltantes['Total'] > 0], sep = '\\n')"
      ],
      "metadata": {
        "id": "ha5svsYAOYC7"
      },
      "execution_count": null,
      "outputs": []
    },
    {
      "cell_type": "code",
      "source": [
        "all_tags = ' '.join(dfMXvideos_clean['tags'].dropna())\n",
        "\n",
        "# Nube de palabras para Etiquetas\n",
        "plt.figure(figsize=(12, 6))\n",
        "wordcloud = WordCloud(width=800, height=400, background_color='white').generate(all_tags)\n",
        "plt.imshow(wordcloud, interpolation='bilinear')\n",
        "plt.axis('off')\n",
        "plt.title('Nube de Palabras para Etiquetas (Tags)')\n",
        "\n",
        "plt.show()"
      ],
      "metadata": {
        "id": "8iVM-TpiOtgf"
      },
      "execution_count": null,
      "outputs": []
    },
    {
      "cell_type": "code",
      "source": [
        "dfMXvideos_clean['total_opinion']= dfMXvideos_clean['likes'] + dfMXvideos_clean['dislikes']\n",
        "dfMXvideos_clean['ratio_vistascomentarios']= ((dfMXvideos_clean['comment_count'] / dfMXvideos_clean['views']) * 100)\n",
        "dfMXvideos_clean['porcentaje_likes']= ((dfMXvideos_clean['likes'] / dfMXvideos_clean['total_opinion']) * 100)\n",
        "dfMXvideos_clean['publish_time'] = pd.to_datetime(dfMXvideos_clean['publish_time'])\n",
        "dfMXvideos_clean['anno'] = dfMXvideos_clean['publish_time'].dt.year"
      ],
      "metadata": {
        "id": "TK_xwbuYOwek"
      },
      "execution_count": null,
      "outputs": []
    },
    {
      "cell_type": "markdown",
      "source": [
        "* Primer requerimiento"
      ],
      "metadata": {
        "id": "OeNdhfkiO9U1"
      }
    },
    {
      "cell_type": "code",
      "source": [
        "Req1 = (\n",
        "                  dfMXvideos_clean.groupby(['category_id'])\n",
        "                  .agg({'views': [np.sum]}))\n",
        "Req1.columns = ['total_views']\n",
        "Req1 = Req1.sort_values(by='total_views', ascending=False)\n",
        "\n",
        "Req1.plot(kind='bar', legend=False)\n",
        "plt.xlabel('Category ID')\n",
        "plt.ylabel('Total de Vistas')\n",
        "plt.yscale(\"log\")\n",
        "plt.title('Total de Vistas por Categoria')\n",
        "plt.show()"
      ],
      "metadata": {
        "id": "sXDSrIIpO7q3"
      },
      "execution_count": null,
      "outputs": []
    },
    {
      "cell_type": "markdown",
      "source": [
        "* Segundo requerimiento"
      ],
      "metadata": {
        "id": "T45IfOyIPDKQ"
      }
    },
    {
      "cell_type": "code",
      "source": [
        "Req2l = (\n",
        "                  dfMXvideos_clean.groupby(['category_id'])\n",
        "                  .agg({'likes': [np.sum]}))\n",
        "Req2l.columns = ['total_likes']\n",
        "Req2l = Req2l.sort_values(by='total_likes', ascending=False)\n",
        "Req2l.sort_values(by='total_likes', ascending=False)\n",
        "Req2l.plot(kind='bar', legend=False)\n",
        "plt.xlabel('Category ID')\n",
        "plt.ylabel('Total de Likes')\n",
        "plt.yscale(\"log\")\n",
        "plt.title('Total de Likes por Categoria')\n",
        "plt.show()"
      ],
      "metadata": {
        "id": "3CREO1OgPFB5"
      },
      "execution_count": null,
      "outputs": []
    },
    {
      "cell_type": "code",
      "source": [
        "Req2d = (\n",
        "                  dfMXvideos_clean.groupby(['category_id'])\n",
        "                  .agg({'dislikes': [np.sum]}))\n",
        "Req2d.columns = ['total_dislikes']\n",
        "Req2d = Req2d.sort_values(by='total_dislikes', ascending=False)\n",
        "Req2d.sort_values(by='total_dislikes', ascending=False)\n",
        "Req2d.plot(kind='bar', legend=False)\n",
        "plt.xlabel('Category ID')\n",
        "plt.ylabel('Total de dislikes')\n",
        "plt.yscale(\"log\")\n",
        "plt.title('Total de dislikes por Categoria')\n",
        "plt.show()"
      ],
      "metadata": {
        "id": "DWaT1gonPHFL"
      },
      "execution_count": null,
      "outputs": []
    },
    {
      "cell_type": "markdown",
      "source": [
        "* Tercer requerimiento"
      ],
      "metadata": {
        "id": "uK3SagszPLLd"
      }
    },
    {
      "cell_type": "code",
      "source": [
        "Req3 = (\n",
        "                  dfMXvideos_clean.groupby(['category_id'])\n",
        "                  .agg({'porcentaje_likes': [np.mean]}))\n",
        "Req3.columns = ['porcentaje_likes']\n",
        "Req3 = Req3.sort_values(by='porcentaje_likes', ascending=False)\n",
        "Req3.sort_values(by='porcentaje_likes', ascending=False)\n",
        "Req3.plot(kind='bar', legend=False)\n",
        "plt.xlabel('Category ID')\n",
        "plt.ylabel('% de likes/dislikes')\n",
        "plt.title('% de likes/dislikes por Categoria')\n",
        "plt.show()"
      ],
      "metadata": {
        "id": "5sFP9KGGPNL5"
      },
      "execution_count": null,
      "outputs": []
    },
    {
      "cell_type": "markdown",
      "source": [
        "* Cuarto requerimiento"
      ],
      "metadata": {
        "id": "CfdqpUigPRId"
      }
    },
    {
      "cell_type": "code",
      "source": [
        "Req4 = (\n",
        "                  dfMXvideos_clean.groupby(['category_id'])\n",
        "                  .agg({'ratio_vistascomentarios': [np.mean]}))\n",
        "Req4.columns = ['ratio_vistascomentarios']\n",
        "Req4 = Req4.sort_values(by='ratio_vistascomentarios', ascending=False)\n",
        "Req4.sort_values(by='ratio_vistascomentarios', ascending=False)\n",
        "Req4.plot(kind='bar', legend=False)\n",
        "plt.xlabel('Category ID')\n",
        "plt.ylabel('% de comentarios/vista')\n",
        "plt.ylim(top=5)\n",
        "plt.title('% de comentarios/vista por Categoria')\n",
        "plt.show()"
      ],
      "metadata": {
        "id": "yxKxHJ41PP8t"
      },
      "execution_count": null,
      "outputs": []
    },
    {
      "cell_type": "markdown",
      "source": [
        "* Quiento requerimiento"
      ],
      "metadata": {
        "id": "ZLS9ECdHPWKj"
      }
    },
    {
      "cell_type": "code",
      "source": [
        "Req5 = (\n",
        "                  dfMXvideos_clean.groupby(['Anno'])\n",
        "                  .agg({'ratio_vistascomentarios': [np.count_nonzero]}))\n",
        "Req5.columns = ['ratio_vistascomentarios']\n",
        "Req5 = Req4.sort_values(by='ratio_vistascomentarios', ascending=False)\n",
        "Req5.sort_values(by='ratio_vistascomentarios', ascending=False)\n",
        "Req5.plot(kind='bar', legend=False)\n",
        "plt.xlabel('Año')\n",
        "plt.ylabel('% de comentarios/vista')\n",
        "plt.ylim(top=5)\n",
        "plt.title('% de comentarios/vista por Categoria')\n",
        "plt.show()"
      ],
      "metadata": {
        "id": "zq2sUzdFPX5S"
      },
      "execution_count": null,
      "outputs": []
    },
    {
      "cell_type": "markdown",
      "source": [
        "* Secto requerimiento"
      ],
      "metadata": {
        "id": "be8SI1U4PZqt"
      }
    },
    {
      "cell_type": "code",
      "source": [
        "Req6 = (\n",
        "                  dfMXvideos_clean.groupby(['channel_title'])\n",
        "                  .agg({'trending_date': [np.count_nonzero]}))\n",
        "Req6.columns = ['a']\n",
        "Req6 = Req6.sort_values(by='a', ascending=False)\n",
        "Req6.sort_values(by='a', ascending=False)\n",
        "Req6 = Req6.head(10)\n",
        "Req6 = Req6.iloc[1:]\n",
        "Req6.plot(kind='bar', legend=False)\n",
        "plt.xlabel('Category ID')\n",
        "plt.ylabel('Cantidad de veces en tendencia')\n",
        "plt.title('Cantidad de veces en tendencia por Canal')\n",
        "plt.show()"
      ],
      "metadata": {
        "id": "lzyklhtjPcIH"
      },
      "execution_count": null,
      "outputs": []
    },
    {
      "cell_type": "code",
      "source": [
        "Req6 = (\n",
        "                  dfMXvideos_clean.groupby(['anno'])\n",
        "                  .agg({'trending_date': [np.count_nonzero]}))\n",
        "Req6.columns = ['a']\n",
        "Req6 = Req6.sort_values(by='a', ascending=False)\n",
        "Req6.sort_values(by='a', ascending=False)\n",
        "Req6 = Req6.head(2)\n",
        "Req6.plot(kind='bar', legend=False)\n",
        "plt.xlabel('Año')\n",
        "plt.ylabel('Cantidad de veces en tendencia')\n",
        "plt.title('Cantidad de veces en tendencia por Año')\n",
        "plt.show()"
      ],
      "metadata": {
        "id": "AgZFqxzuPfWa"
      },
      "execution_count": null,
      "outputs": []
    },
    {
      "cell_type": "markdown",
      "source": [
        "* Septimo requerimiento"
      ],
      "metadata": {
        "id": "ajToAhcKPd3n"
      }
    },
    {
      "cell_type": "code",
      "source": [
        "Req7l = (\n",
        "                  dfMXvideos_clean.groupby(['state'])\n",
        "                  .agg({'likes': [np.sum]}))\n",
        "Req7l.columns = ['total_likes']\n",
        "Req7l = Req2l.sort_values(by='total_likes', ascending=False)\n",
        "Req7l.sort_values(by='total_likes', ascending=False)\n",
        "Req7l.plot(kind='bar', legend=False)\n",
        "plt.xlabel('Category ID')\n",
        "plt.ylabel('Total de Likes')\n",
        "plt.yscale(\"log\")\n",
        "plt.title('Total de Likes por Estado')\n",
        "plt.show()"
      ],
      "metadata": {
        "id": "1oGu0IxNPrT6"
      },
      "execution_count": null,
      "outputs": []
    },
    {
      "cell_type": "code",
      "source": [
        "Req7v = (\n",
        "                  dfMXvideos_clean.groupby(['state'])\n",
        "                  .agg({'views': [np.sum]}))\n",
        "Req7v.columns = ['total_views']\n",
        "Req7v = Req7v.sort_values(by='total_views', ascending=False)\n",
        "Req7v.sort_values(by='total_views', ascending=False)\n",
        "Req7v.plot(kind='bar', legend=False)\n",
        "plt.xlabel('Category ID')\n",
        "plt.ylabel('Total de Vistas')\n",
        "plt.yscale(\"log\")\n",
        "plt.title('Total de Vistas por Estado')\n",
        "plt.show()"
      ],
      "metadata": {
        "id": "MDqSGeSjPsOi"
      },
      "execution_count": null,
      "outputs": []
    },
    {
      "cell_type": "code",
      "source": [
        "Req7l = (\n",
        "                  dfMXvideos_clean.groupby(['state'])\n",
        "                  .agg({'likes': [np.sum]}))\n",
        "Req7l.columns = ['total_likes']\n",
        "Req7l = Req7l.sort_values(by='total_likes', ascending=False)\n",
        "Req7l.sort_values(by='total_likes', ascending=False)\n",
        "Req7l.plot(kind='bar', legend=False)\n",
        "plt.xlabel('Category ID')\n",
        "plt.ylabel('Total de Likes')\n",
        "plt.yscale(\"log\")\n",
        "plt.title('Total de Likes por Estado')\n",
        "plt.show()"
      ],
      "metadata": {
        "id": "7AdTzJF7Pvic"
      },
      "execution_count": null,
      "outputs": []
    },
    {
      "cell_type": "code",
      "source": [
        "Req7d = (\n",
        "                  dfMXvideos_clean.groupby(['state'])\n",
        "                  .agg({'dislikes': [np.sum]}))\n",
        "Req7d.columns = ['total_dislikes']\n",
        "Req7d = Req7d.sort_values(by='total_dislikes', ascending=False)\n",
        "Req7d.sort_values(by='total_dislikes', ascending=False)\n",
        "Req7d.plot(kind='bar', legend=False)\n",
        "plt.xlabel('Category ID')\n",
        "plt.ylabel('Total de Dislikes')\n",
        "plt.yscale(\"log\")\n",
        "plt.title('Total de Dislikes por Estado')\n",
        "plt.show()"
      ],
      "metadata": {
        "id": "Y2YIuo82Pxlk"
      },
      "execution_count": null,
      "outputs": []
    },
    {
      "cell_type": "markdown",
      "source": [
        "* Octavo requerimiento"
      ],
      "metadata": {
        "id": "oIUcioZAPzQW"
      }
    },
    {
      "cell_type": "code",
      "source": [
        "Req8 = (\n",
        "                  dfMXvideos_clean.groupby(['category_id'])\n",
        "                  .agg({'likes': [np.mean]}))\n",
        "Req8.columns = ['prom_likes']\n",
        "Req8 = Req8.sort_values(by='prom_likes', ascending=False)\n",
        "Req8.sort_values(by='prom_likes', ascending=False)\n",
        "Req8.plot(kind='bar', legend=False)\n",
        "plt.xlabel('Category ID')\n",
        "plt.ylabel('Promedio de Likes')\n",
        "plt.title('Promedio de Likes por Categoria')\n",
        "plt.show()"
      ],
      "metadata": {
        "id": "lyVem4ciP29r"
      },
      "execution_count": null,
      "outputs": []
    },
    {
      "cell_type": "code",
      "source": [
        "Req8b = (\n",
        "                  dfMXvideos_clean.groupby(['category_id'])\n",
        "                  .agg({'dislikes': [np.mean]}))\n",
        "Req8b.columns = ['prom_dislikes']\n",
        "Req8b = Req8b.sort_values(by='prom_dislikes', ascending=False)\n",
        "Req8b.sort_values(by='prom_dislikes', ascending=False)\n",
        "Req8b.plot(kind='bar', legend=False)\n",
        "plt.xlabel('Category ID')\n",
        "plt.ylabel('Promedio de Disikes')\n",
        "plt.title('Promedio de Dislikes por Categoria')\n",
        "plt.show()"
      ],
      "metadata": {
        "id": "3-9zBDUSP817"
      },
      "execution_count": null,
      "outputs": []
    },
    {
      "cell_type": "markdown",
      "source": [
        "* Noveno requerimiento"
      ],
      "metadata": {
        "id": "Lzm7USwQP_W9"
      }
    },
    {
      "cell_type": "code",
      "source": [
        "Req9 = (\n",
        "                  dfMXvideos_clean.groupby(['channel_title'])\n",
        "                  .agg({'dislikes': [np.mean]}))\n",
        "Req9.columns = ['prom_dislikescanal']\n",
        "Req9 = Req9.sort_values(by='prom_dislikescanal', ascending=False)\n",
        "Req9.sort_values(by='prom_dislikescanal', ascending=False)\n",
        "Req9 = Req9.head(10)\n",
        "Req9.plot(kind='bar', legend=False)\n",
        "plt.xlabel('Canal')\n",
        "plt.ylabel('Promedio de Disikes')\n",
        "plt.title('Promedio de Dislikes por Canal')\n",
        "plt.show()"
      ],
      "metadata": {
        "id": "RndJDXMMP-9o"
      },
      "execution_count": null,
      "outputs": []
    }
  ]
}